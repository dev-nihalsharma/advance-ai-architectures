{
 "cells": [
  {
   "cell_type": "code",
   "execution_count": 1,
   "id": "91381500",
   "metadata": {
    "_cell_guid": "b1076dfc-b9ad-4769-8c92-a6c4dae69d19",
    "_uuid": "8f2839f25d086af736a60e9eeb907d3b93b6e0e5",
    "execution": {
     "iopub.execute_input": "2024-06-12T09:41:42.047909Z",
     "iopub.status.busy": "2024-06-12T09:41:42.047549Z",
     "iopub.status.idle": "2024-06-12T09:41:45.080724Z",
     "shell.execute_reply": "2024-06-12T09:41:45.079698Z"
    },
    "papermill": {
     "duration": 3.03979,
     "end_time": "2024-06-12T09:41:45.083282",
     "exception": false,
     "start_time": "2024-06-12T09:41:42.043492",
     "status": "completed"
    },
    "tags": []
   },
   "outputs": [],
   "source": [
    "import torch\n",
    "import torch.nn as nn"
   ]
  },
  {
   "cell_type": "markdown",
   "id": "c93f438c",
   "metadata": {
    "papermill": {
     "duration": 0.002131,
     "end_time": "2024-06-12T09:41:45.088023",
     "exception": false,
     "start_time": "2024-06-12T09:41:45.085892",
     "status": "completed"
    },
    "tags": []
   },
   "source": [
    "https://media.geeksforgeeks.org/wp-content/uploads/20200429201421/Inception-layer-by-layer.PNG"
   ]
  },
  {
   "cell_type": "markdown",
   "id": "9e080e85",
   "metadata": {
    "papermill": {
     "duration": 0.00185,
     "end_time": "2024-06-12T09:41:45.092006",
     "exception": false,
     "start_time": "2024-06-12T09:41:45.090156",
     "status": "completed"
    },
    "tags": []
   },
   "source": []
  },
  {
   "cell_type": "code",
   "execution_count": 2,
   "id": "ee5c4760",
   "metadata": {
    "execution": {
     "iopub.execute_input": "2024-06-12T09:41:45.097880Z",
     "iopub.status.busy": "2024-06-12T09:41:45.097437Z",
     "iopub.status.idle": "2024-06-12T09:41:45.107435Z",
     "shell.execute_reply": "2024-06-12T09:41:45.106468Z"
    },
    "papermill": {
     "duration": 0.015545,
     "end_time": "2024-06-12T09:41:45.109663",
     "exception": false,
     "start_time": "2024-06-12T09:41:45.094118",
     "status": "completed"
    },
    "tags": []
   },
   "outputs": [],
   "source": [
    "class ConvBlock(nn.Module):\n",
    "    def __init__(self,in_channels, out_channels, **kwargs):\n",
    "        super(ConvBlock, self).__init__()\n",
    "        self.relu = nn.ReLU()\n",
    "        self.conv = nn.Conv2d(in_channels, out_channels, **kwargs)\n",
    "        self.batchnorm = nn.BatchNorm2d(out_channels)\n",
    "        \n",
    "    def forward(self,x):\n",
    "        return self.relu(self.batchnorm(self.conv(x)))\n",
    "    \n",
    "class InceptionBlock(nn.Module):\n",
    "    def __init__(self,in_channels, out1x1, red_3x3, out_3x3, red5x5, out5x5, out1x1pool):\n",
    "        super(InceptionBlock, self).__init__()\n",
    "        \n",
    "        self.filter1 = ConvBlock(in_channels, out1x1, kernel_size=1)\n",
    "        self.filter2 = nn.Sequential(\n",
    "        ConvBlock(in_channels, red_3x3, kernel_size=1),\n",
    "        ConvBlock(red_3x3, out_3x3, kernel_size=3, padding=1)\n",
    "        )\n",
    "        self.filter3 = nn.Sequential(\n",
    "        ConvBlock(in_channels, red5x5, kernel_size=1),\n",
    "        ConvBlock(red5x5, out5x5, kernel_size=5, padding=2)\n",
    "        )\n",
    "        self.filter4 = nn.Sequential(\n",
    "        nn.MaxPool2d(kernel_size=3, stride=1, padding=1),\n",
    "        ConvBlock(in_channels, out1x1pool, kernel_size=1)\n",
    "        )\n",
    "        \n",
    "    def forward(self,x):\n",
    "        return torch.cat([self.filter1(x),self.filter2(x),self.filter3(x),self.filter4(x)], 1)"
   ]
  },
  {
   "cell_type": "code",
   "execution_count": 3,
   "id": "d9986db4",
   "metadata": {
    "execution": {
     "iopub.execute_input": "2024-06-12T09:41:45.116859Z",
     "iopub.status.busy": "2024-06-12T09:41:45.116419Z",
     "iopub.status.idle": "2024-06-12T09:41:45.129653Z",
     "shell.execute_reply": "2024-06-12T09:41:45.128738Z"
    },
    "papermill": {
     "duration": 0.019126,
     "end_time": "2024-06-12T09:41:45.131737",
     "exception": false,
     "start_time": "2024-06-12T09:41:45.112611",
     "status": "completed"
    },
    "tags": []
   },
   "outputs": [],
   "source": [
    "class GoogLeNet(nn.Module):\n",
    "    def __init__(self, in_channels=3, num_classes=1000):\n",
    "        super(GoogLeNet, self).__init__()\n",
    "        self.conv1 = ConvBlock(\n",
    "            in_channels=3,\n",
    "            out_channels=64,\n",
    "            kernel_size=7,\n",
    "            stride=2,\n",
    "            padding=3,\n",
    "        )\n",
    "\n",
    "        self.maxpool1 = nn.MaxPool2d(kernel_size=3, stride=2, padding=1)\n",
    "        self.conv2 = ConvBlock(64, 192, kernel_size=3, stride=1, padding=1)\n",
    "        self.maxpool2 = nn.MaxPool2d(kernel_size=3, stride=2, padding=1)\n",
    "\n",
    "        # In this order: in_channels, out_1x1, red_3x3, out_3x3, red_5x5, out_5x5, out_1x1pool\n",
    "        self.inception3a = InceptionBlock(192, 64, 96, 128, 16, 32, 32)\n",
    "        self.inception3b = InceptionBlock(256, 128, 128, 192, 32, 96, 64)\n",
    "        self.maxpool3 = nn.MaxPool2d(kernel_size=3, stride=2, padding=1)\n",
    "\n",
    "        self.inception4a = InceptionBlock(480, 192, 96, 208, 16, 48, 64)\n",
    "        self.inception4b = InceptionBlock(512, 160, 112, 224, 24, 64, 64)\n",
    "        self.inception4c = InceptionBlock(512, 128, 128, 256, 24, 64, 64)\n",
    "        self.inception4d = InceptionBlock(512, 112, 144, 288, 32, 64, 64)\n",
    "        self.inception4e = InceptionBlock(528, 256, 160, 320, 32, 128, 128)\n",
    "        self.maxpool4 = nn.MaxPool2d(kernel_size=3, stride=2, padding=1)\n",
    "\n",
    "        self.inception5a = InceptionBlock(832, 256, 160, 320, 32, 128, 128)\n",
    "        self.inception5b = InceptionBlock(832, 384, 192, 384, 48, 128, 128)\n",
    "\n",
    "        self.avgpool = nn.AvgPool2d(kernel_size=7, stride=1)\n",
    "        self.dropout = nn.Dropout(p=0.4)\n",
    "        self.fc = nn.Linear(1024, num_classes)\n",
    "    \n",
    "    def forward(self, x):\n",
    "        x = self.conv1(x)\n",
    "        x = self.maxpool1(x)\n",
    "        x = self.conv2(x)\n",
    "        x = self.maxpool2(x)\n",
    "        \n",
    "        x = self.inception3a(x)\n",
    "        x = self.inception3b(x)\n",
    "        x = self.maxpool3(x)\n",
    "        \n",
    "        x = self.inception4a(x)\n",
    "        x = self.inception4b(x)\n",
    "        x = self.inception4c(x)\n",
    "        x = self.inception4d(x)\n",
    "        x = self.inception4e(x)\n",
    "        x = self.maxpool4(x)\n",
    "        \n",
    "        x = self.inception5a(x)\n",
    "        x = self.inception5b(x)\n",
    "        \n",
    "        x = self.avgpool(x)\n",
    "        x = x.reshape(x.shape[0], -1)\n",
    "        x = self.dropout(x)\n",
    "        x = self.fc(x)        \n",
    "        \n",
    "        return x"
   ]
  },
  {
   "cell_type": "code",
   "execution_count": 4,
   "id": "0f16e7ce",
   "metadata": {
    "execution": {
     "iopub.execute_input": "2024-06-12T09:41:45.137912Z",
     "iopub.status.busy": "2024-06-12T09:41:45.137198Z",
     "iopub.status.idle": "2024-06-12T09:41:45.735490Z",
     "shell.execute_reply": "2024-06-12T09:41:45.734067Z"
    },
    "papermill": {
     "duration": 0.60367,
     "end_time": "2024-06-12T09:41:45.737688",
     "exception": false,
     "start_time": "2024-06-12T09:41:45.134018",
     "status": "completed"
    },
    "tags": []
   },
   "outputs": [
    {
     "name": "stdout",
     "output_type": "stream",
     "text": [
      "torch.Size([3, 1000])\n"
     ]
    }
   ],
   "source": [
    "if __name__ == '__main__':\n",
    "    x = torch.randn(3,3,224,224)\n",
    "    model = GoogLeNet()\n",
    "    print(model(x).shape)"
   ]
  }
 ],
 "metadata": {
  "kaggle": {
   "accelerator": "none",
   "dataSources": [],
   "dockerImageVersionId": 30732,
   "isGpuEnabled": false,
   "isInternetEnabled": true,
   "language": "python",
   "sourceType": "notebook"
  },
  "kernelspec": {
   "display_name": "Python 3",
   "language": "python",
   "name": "python3"
  },
  "language_info": {
   "codemirror_mode": {
    "name": "ipython",
    "version": 3
   },
   "file_extension": ".py",
   "mimetype": "text/x-python",
   "name": "python",
   "nbconvert_exporter": "python",
   "pygments_lexer": "ipython3",
   "version": "3.10.13"
  },
  "papermill": {
   "default_parameters": {},
   "duration": 6.859859,
   "end_time": "2024-06-12T09:41:46.460027",
   "environment_variables": {},
   "exception": null,
   "input_path": "__notebook__.ipynb",
   "output_path": "__notebook__.ipynb",
   "parameters": {},
   "start_time": "2024-06-12T09:41:39.600168",
   "version": "2.5.0"
  }
 },
 "nbformat": 4,
 "nbformat_minor": 5
}
